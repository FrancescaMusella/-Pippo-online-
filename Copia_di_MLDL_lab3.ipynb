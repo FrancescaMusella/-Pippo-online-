{
  "nbformat": 4,
  "nbformat_minor": 0,
  "metadata": {
    "colab": {
      "provenance": [],
      "gpuType": "T4",
      "include_colab_link": true
    },
    "kernelspec": {
      "name": "python3",
      "display_name": "Python 3"
    },
    "language_info": {
      "name": "python"
    },
    "accelerator": "GPU"
  },
  "cells": [
    {
      "cell_type": "markdown",
      "metadata": {
        "id": "view-in-github",
        "colab_type": "text"
      },
      "source": [
        "<a href=\"https://colab.research.google.com/github/FrancescaMusella/-Pippo-online-/blob/main/Copia_di_MLDL_lab3.ipynb\" target=\"_parent\"><img src=\"https://colab.research.google.com/assets/colab-badge.svg\" alt=\"Open In Colab\"/></a>"
      ]
    },
    {
      "cell_type": "markdown",
      "source": [
        "# LAB 3: How to setup a project from Scratch"
      ],
      "metadata": {
        "id": "-E9qeg-6y1Hu"
      }
    },
    {
      "cell_type": "markdown",
      "source": [
        "# Step 1: Clone your project from Github"
      ],
      "metadata": {
        "id": "y6kJGhxzyN6d"
      }
    },
    {
      "cell_type": "code",
      "source": [
        "# !git clone https://github.com/lambdavi/mldl_project_skeleton.git\n",
        "#!git clone https://github.com/<user>/<repo_name>.git\n",
        "\n",
        "!git clone https://github.com/FrancescaMusella/mldl_lab3.git"
      ],
      "metadata": {
        "id": "6Wfm084txMr0",
        "colab": {
          "base_uri": "https://localhost:8080/"
        },
        "outputId": "2e66b3de-a9c3-4eac-e492-884d616a6557"
      },
      "execution_count": 1,
      "outputs": [
        {
          "output_type": "stream",
          "name": "stdout",
          "text": [
            "Cloning into 'mldl_lab3'...\n",
            "remote: Enumerating objects: 11, done.\u001b[K\n",
            "remote: Counting objects: 100% (4/4), done.\u001b[K\n",
            "remote: Compressing objects: 100% (4/4), done.\u001b[K\n",
            "remote: Total 11 (delta 2), reused 0 (delta 0), pack-reused 7 (from 1)\u001b[K\n",
            "Receiving objects: 100% (11/11), done.\n",
            "Resolving deltas: 100% (2/2), done.\n"
          ]
        }
      ]
    },
    {
      "cell_type": "code",
      "source": [
        "# ls mostra i file e le cartelle nella directory corrente.\n",
        "!ls"
      ],
      "metadata": {
        "id": "MN0lMneJxVz0",
        "colab": {
          "base_uri": "https://localhost:8080/"
        },
        "outputId": "8ec7ea62-c8e9-49bb-f11e-bb4bbd222226"
      },
      "execution_count": 2,
      "outputs": [
        {
          "output_type": "stream",
          "name": "stdout",
          "text": [
            "mldl_lab3  sample_data\n"
          ]
        }
      ]
    },
    {
      "cell_type": "code",
      "source": [
        "#from google.colab import drive\n",
        "#drive.mount('/content/drive')"
      ],
      "metadata": {
        "id": "6aDlaLrLbRBW"
      },
      "execution_count": 3,
      "outputs": []
    },
    {
      "cell_type": "code",
      "source": [
        "#cambia la directory di lavoro\n",
        "# %cd mldl_project_skeleton\n",
        "#%cd <repo_name>\n",
        "%cd mldl_lab3\n"
      ],
      "metadata": {
        "id": "3Pa5nOPxxbDf",
        "colab": {
          "base_uri": "https://localhost:8080/"
        },
        "outputId": "17e6e2f4-3e90-4c35-8379-f7c80cc47dd9"
      },
      "execution_count": 4,
      "outputs": [
        {
          "output_type": "stream",
          "name": "stdout",
          "text": [
            "/content/mldl_lab3\n"
          ]
        }
      ]
    },
    {
      "cell_type": "markdown",
      "source": [
        "# Step 2: Packages Installation\n"
      ],
      "metadata": {
        "id": "be_4yDyp1Hru"
      }
    },
    {
      "cell_type": "code",
      "source": [
        "!pip install -r requirements.txt"
      ],
      "metadata": {
        "id": "EO9DuAYk1LFR"
      },
      "execution_count": 5,
      "outputs": []
    },
    {
      "cell_type": "markdown",
      "source": [
        "# Step 3: Dataset Setup\n",
        "## Different options\n",
        "- First one is downloading using a script that places the data in the download folder (usually recommended)\n",
        "- Second one is uploading the dataset to your personal/institutional Google Drive and load it from there ([Read More](https://saturncloud.io/blog/google-colab-how-to-read-data-from-my-google-drive/))\n",
        "- Place the download script directly here on colab\n",
        "\n",
        "You are free to do as you please in this phase.\n"
      ],
      "metadata": {
        "id": "bifSi62Ixrqr"
      }
    },
    {
      "cell_type": "code",
      "source": [
        "# esegue lo script download_dataset.py situato nella cartella utils/ utilizzando Python\n",
        "!python utils/download_dataset.py"
      ],
      "metadata": {
        "id": "DiWQTaTbxeIc",
        "colab": {
          "base_uri": "https://localhost:8080/"
        },
        "outputId": "43d69de6-3219-4962-bba6-e4ff4a9acbdd"
      },
      "execution_count": 12,
      "outputs": [
        {
          "output_type": "stream",
          "name": "stdout",
          "text": [
            "Download and extraction complete!\n"
          ]
        }
      ]
    },
    {
      "cell_type": "markdown",
      "source": [
        "# Step 4: Train your model and visualize training"
      ],
      "metadata": {
        "id": "sqo9Eh79yihI"
      }
    },
    {
      "cell_type": "code",
      "source": [
        "# %env è un magic command di Jupyter/IPython che imposta variabili d'ambiente.\n",
        "#WANDB_API_KEY è il nome della variabile d'ambiente utilizzata da Weights & Biases (W&B).\n",
        "#<your_api_key> è il valore da sostituire con la tua chiave API personale.\n",
        "\n",
        "#Impostando la variabile d'ambiente WANDB_API_KEY, stai autenticando il tuo notebook\n",
        "#per interagire con W&B, consentendo di:\n",
        "#Loggare metriche di addestramento in tempo reale.\n",
        "#Salvare modelli e checkpoint.\n",
        "#Visualizzare grafici e report nel tuo account W&B.\n",
        "\n",
        "#Per ottenere la tua API Key W&B\n",
        "#Accedi a Weights & Biases\n",
        "#Clicca su \"Settings\" (Impostazioni) nel tuo profilo.\n",
        "#Trova la tua API Key e copiala al posto di <your_api_key>\n",
        "\n",
        "%env WANDB_API_KEY=<your_api_key>"
      ],
      "metadata": {
        "id": "4-dxDQOFcdgX",
        "colab": {
          "base_uri": "https://localhost:8080/"
        },
        "outputId": "386d2112-ff11-4168-86b3-b8b1a1e540c2"
      },
      "execution_count": 8,
      "outputs": [
        {
          "output_type": "stream",
          "name": "stdout",
          "text": [
            "env: WANDB_API_KEY=<your_api_key>\n"
          ]
        }
      ]
    },
    {
      "cell_type": "code",
      "source": [
        "# esegue lo script Python train.py, che contiene il codice per l'addestramento del modello.\n",
        "\n",
        "!python train.py"
      ],
      "metadata": {
        "id": "8q9OvEDHxmRv",
        "collapsed": true
      },
      "execution_count": 13,
      "outputs": []
    },
    {
      "cell_type": "markdown",
      "source": [
        "# Step 5: Evaluate your model"
      ],
      "metadata": {
        "id": "DyQo3klIymlz"
      }
    },
    {
      "cell_type": "code",
      "source": [
        "# esegue lo script Python eval.py, che contiene il codice per la valutazione del modello.\n",
        "\n",
        "!python eval.py"
      ],
      "metadata": {
        "id": "9goKvp4jxk4j"
      },
      "execution_count": 11,
      "outputs": []
    }
  ]
}